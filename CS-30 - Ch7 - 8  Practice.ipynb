{
 "metadata": {
  "language_info": {
   "codemirror_mode": {
    "name": "ipython",
    "version": 3
   },
   "file_extension": ".py",
   "mimetype": "text/x-python",
   "name": "python",
   "nbconvert_exporter": "python",
   "pygments_lexer": "ipython3",
   "version": "3.8.6-final"
  },
  "orig_nbformat": 2,
  "kernelspec": {
   "name": "Python 3.8.6 64-bit",
   "display_name": "Python 3.8.6 64-bit",
   "metadata": {
    "interpreter": {
     "hash": "656f0e764809f44f8abc7f303ac86b37abeb85d616e7b082828285667d90bb60"
    }
   }
  }
 },
 "nbformat": 4,
 "nbformat_minor": 2,
 "cells": [
  {
   "cell_type": "code",
   "execution_count": null,
   "metadata": {},
   "outputs": [],
   "source": [
    "arden = input(\"How old are you Arden\")\n",
    "arden = int(arden)\n",
    "\n",
    "while True:\n",
    "    if arden >= 10:\n",
    "        print(\"You are old enough\")\n",
    "        break\n",
    "    else:\n",
    "        print(\"Try again when you are older\")\n",
    "        continue"
   ]
  },
  {
   "cell_type": "code",
   "execution_count": null,
   "metadata": {},
   "outputs": [],
   "source": [
    "barnan = [1, 2, 3, 4]\n",
    "while barnan:\n",
    "    print(barnan.pop(0))\n"
   ]
  }
 ]
}